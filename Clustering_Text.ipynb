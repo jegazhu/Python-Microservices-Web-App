{
  "cells": [
    {
      "cell_type": "markdown",
      "metadata": {
        "id": "view-in-github",
        "colab_type": "text"
      },
      "source": [
        "<a href=\"https://colab.research.google.com/github/jegazhu/Python-Microservices-Web-App/blob/main/Clustering_Text.ipynb\" target=\"_parent\"><img src=\"https://colab.research.google.com/assets/colab-badge.svg\" alt=\"Open In Colab\"/></a>"
      ]
    },
    {
      "cell_type": "markdown",
      "metadata": {
        "id": "aX_YwwK_Eo7t"
      },
      "source": [
        "## 03_02 Preparing Text for Clustering"
      ]
    },
    {
      "cell_type": "code",
      "execution_count": 1,
      "metadata": {
        "colab": {
          "base_uri": "https://localhost:8080/"
        },
        "id": "AZMyXkSjEo7w",
        "outputId": "48da31da-e85a-4c46-91eb-5998b7dbb917"
      },
      "outputs": [
        {
          "output_type": "stream",
          "name": "stdout",
          "text": [
            "\n",
            "Sample hashtag data :\n",
            "                            Course                             HashTags\n",
            "0  Apache Spark Essential Training  BigData,DataScience,MachineLearning\n",
            "1           Java Memory Management            Java,Advanced,Programming\n",
            "\n",
            " Feature names Identified :\n",
            "\n",
            "['advanced', 'automation', 'bigdata', 'datascience', 'design', 'developer', 'gcp', 'graphics', 'hadoop', 'ide', 'intermediate', 'java', 'jdbc', 'kubernetes', 'machinelearning', 'patterns', 'programming', 'python', 'scala', 'scripting']\n"
          ]
        },
        {
          "output_type": "stream",
          "name": "stderr",
          "text": [
            "/usr/local/lib/python3.7/dist-packages/sklearn/utils/deprecation.py:87: FutureWarning: Function get_feature_names is deprecated; get_feature_names is deprecated in 1.0 and will be removed in 1.2. Please use get_feature_names_out instead.\n",
            "  warnings.warn(msg, category=FutureWarning)\n"
          ]
        }
      ],
      "source": [
        "import pandas as pd\n",
        "\n",
        "#Load course hashtags\n",
        "hashtags_df=pd.read_csv(\"Course-Hashtags.csv\")\n",
        "print(\"\\nSample hashtag data :\")\n",
        "print(hashtags_df[:2])\n",
        "\n",
        "#Seperate Hashtags and titles to lists\n",
        "hash_list = hashtags_df[\"HashTags\"].tolist()\n",
        "title_list = hashtags_df[\"Course\"].tolist()\n",
        "\n",
        "#Do TF-IDF conversion of hashtags\n",
        "from sklearn.feature_extraction.text import TfidfVectorizer\n",
        "\n",
        "vectorizer = TfidfVectorizer(stop_words='english')\n",
        "hash_matrix=vectorizer.fit_transform(hash_list)\n",
        "print(\"\\n Feature names Identified :\\n\")\n",
        "print(vectorizer.get_feature_names())"
      ]
    },
    {
      "cell_type": "markdown",
      "metadata": {
        "id": "mTv-UV92Eo7y"
      },
      "source": [
        "## 03_03 Clustering TF-IDF data"
      ]
    },
    {
      "cell_type": "code",
      "execution_count": 2,
      "metadata": {
        "colab": {
          "base_uri": "https://localhost:8080/"
        },
        "id": "kq1_zUwvEo7y",
        "outputId": "7ead6ddf-4901-4157-f4ae-6af2c7f659cc"
      },
      "outputs": [
        {
          "output_type": "stream",
          "name": "stdout",
          "text": [
            "\n",
            "Group :  0 \n",
            "-------------------\n",
            "Java Memory Management\n",
            "Java : Database Integration and JDBC\n",
            "R Programming\n",
            "Java IDE Overview\n",
            "Kubernetes for Java Developers\n",
            "\n",
            "Group :  1 \n",
            "-------------------\n",
            "Apache Spark Essential Training\n",
            "Machine Learning and AI Foundations\n",
            "Hadoop for Data Science\n",
            "Data Science on Google Cloud Platform\n",
            "Scala for Data Science\n",
            "\n",
            "Group :  2 \n",
            "-------------------\n",
            "Python Automation and Testing\n",
            "Python for Graphics\n",
            "Python Design Patterns\n",
            "Python Scripting\n"
          ]
        }
      ],
      "source": [
        "#Use KMeans clustering from scikit-learn\n",
        "from sklearn.cluster import KMeans\n",
        "\n",
        "#Split data into 3 clusters\n",
        "kmeans = KMeans(n_clusters=3).fit(hash_matrix)\n",
        "\n",
        "#get Cluster labels.\n",
        "clusters=kmeans.labels_\n",
        "\n",
        "#Print cluster label and Courses under each cluster\n",
        "for group in set(clusters):\n",
        "    print(\"\\nGroup : \",group, \"\\n-------------------\")\n",
        "    \n",
        "    for i in hashtags_df.index:\n",
        "        if ( clusters[i] == group):\n",
        "            print(title_list[i])\n",
        "    "
      ]
    },
    {
      "cell_type": "markdown",
      "metadata": {
        "id": "0uWmPC0bEo7z"
      },
      "source": [
        "## 03_04 Finding optimal Cluster size"
      ]
    },
    {
      "cell_type": "code",
      "execution_count": 3,
      "metadata": {
        "colab": {
          "base_uri": "https://localhost:8080/",
          "height": 332
        },
        "id": "BteV-NHbEo7z",
        "outputId": "f66bf6f8-0bbf-45c4-8df1-a9fc14c00aae"
      },
      "outputs": [
        {
          "output_type": "stream",
          "name": "stdout",
          "text": [
            "Sum of squared distances :  [11.433022387031059, 9.055813116540266, 6.761066172191217, 5.821628323788305, 4.817093184201765, 4.11101805980707, 3.348140671210957, 2.8186260066230613, 2.522474066043382, 1.807779789051295, 1.3264482360674248, 0.8457910455266846, 0.40164181287464107, 2.220446049250313e-16]\n"
          ]
        },
        {
          "output_type": "display_data",
          "data": {
            "text/plain": [
              "<Figure size 432x288 with 1 Axes>"
            ],
            "image/png": "[encoded data removed]"
          },
          "metadata": {
            "needs_background": "light"
          }
        }
      ],
      "source": [
        "#Find optimal cluster size by finding sum-of-squared-distances\n",
        "\n",
        "sosd = []\n",
        "#Run clustering for sizes 1 to 15 and capture inertia\n",
        "K = range(1,15)\n",
        "for k in K:\n",
        "    km = KMeans(n_clusters=k)\n",
        "    km = km.fit(hash_matrix)\n",
        "    sosd.append(km.inertia_)\n",
        "    \n",
        "print(\"Sum of squared distances : \" ,sosd)\n",
        "\n",
        "#Plot sosd against number of clusters\n",
        "import matplotlib.pyplot as mpLib\n",
        "mpLib.plot(K, sosd, 'bx-')\n",
        "mpLib.xlabel('Cluster count')\n",
        "mpLib.ylabel('Sum_of_squared_distances')\n",
        "mpLib.title('Elbow Method For Optimal Cluster Size')\n",
        "mpLib.show()\n"
      ]
    },
    {
      "cell_type": "code",
      "execution_count": null,
      "metadata": {
        "id": "lMCEZygOEo7z"
      },
      "outputs": [],
      "source": []
    }
  ],
  "metadata": {
    "kernelspec": {
      "display_name": "Python 3",
      "language": "python",
      "name": "python3"
    },
    "language_info": {
      "codemirror_mode": {
        "name": "ipython",
        "version": 3
      },
      "file_extension": ".py",
      "mimetype": "text/x-python",
      "name": "python",
      "nbconvert_exporter": "python",
      "pygments_lexer": "ipython3",
      "version": "3.7.3"
    },
    "colab": {
      "provenance": [],
      "include_colab_link": true
    }
  },
  "nbformat": 4,
  "nbformat_minor": 0
}